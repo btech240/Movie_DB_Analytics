{
 "cells": [
  {
   "cell_type": "code",
   "execution_count": 1,
   "metadata": {},
   "outputs": [],
   "source": [
    "import pandas as pd"
   ]
  },
  {
   "cell_type": "code",
   "execution_count": 2,
   "metadata": {},
   "outputs": [],
   "source": [
    "# Load the CSV file with low_memory=False and without specifying dtypes initially\n",
    "df = pd.read_csv('raw_movie_data.csv', low_memory=False)\n",
    "\n",
    "# Convert relevant columns to numeric, coercing errors into NaN\n",
    "df['Year'] = pd.to_numeric(df['Year'], errors='coerce')\n",
    "df['Duration'] = pd.to_numeric(df['Duration'], errors='coerce')\n",
    "df['Budget'] = pd.to_numeric(df['Budget'], errors='coerce')\n",
    "df['Revenue'] = pd.to_numeric(df['Revenue'], errors='coerce')\n",
    "df['Ratings'] = pd.to_numeric(df['Ratings'], errors='coerce')\n",
    "df['Vote Count'] = pd.to_numeric(df['Vote Count'], errors='coerce')\n",
    "df['Popularity'] = pd.to_numeric(df['Popularity'], errors='coerce')\n",
    "df['Movie ID'] = pd.to_numeric(df['Movie ID'], errors='coerce')\n",
    "\n",
    "# Convert all object columns to string type\n",
    "df['Title'] = df['Title'].astype('string')\n",
    "df['Director'] = df['Director'].astype('string')\n",
    "df['Producer'] = df['Producer'].astype('string')\n",
    "df['Genres'] = df['Genres'].astype('string')\n",
    "df['Summary'] = df['Summary'].astype('string')\n",
    "df['Content Rating'] = df['Content Rating'].astype('string')\n",
    "df['Original Language'] = df['Original Language'].astype('string')\n",
    "df['Production Companies'] = df['Production Companies'].astype('string')\n",
    "df['Production Countries'] = df['Production Countries'].astype('string')\n",
    "df['Spoken Languages'] = df['Spoken Languages'].astype('string')\n",
    "df['Tagline'] = df['Tagline'].astype('string')\n",
    "\n",
    "# Convert 'Adult' column to boolean (it may have values like \"True/False\" or 0/1)\n",
    "df['Adult'] = df['Adult'].astype(bool)"
   ]
  },
  {
   "cell_type": "code",
   "execution_count": 3,
   "metadata": {},
   "outputs": [],
   "source": [
    "# Disable scientific notation for floats\n",
    "pd.options.display.float_format = '{:,.2f}'.format"
   ]
  },
  {
   "cell_type": "code",
   "execution_count": 4,
   "metadata": {},
   "outputs": [
    {
     "data": {
      "text/plain": [
       "Title                   string[python]\n",
       "Year                           float64\n",
       "Director                string[python]\n",
       "Producer                string[python]\n",
       "Genres                  string[python]\n",
       "Summary                 string[python]\n",
       "Duration                       float64\n",
       "Budget                         float64\n",
       "Revenue                        float64\n",
       "Ratings                        float64\n",
       "Vote Count                     float64\n",
       "Popularity                     float64\n",
       "Content Rating          string[python]\n",
       "Original Language       string[python]\n",
       "Production Companies    string[python]\n",
       "Production Countries    string[python]\n",
       "Spoken Languages        string[python]\n",
       "Tagline                 string[python]\n",
       "Adult                             bool\n",
       "Movie ID                       float64\n",
       "dtype: object"
      ]
     },
     "execution_count": 4,
     "metadata": {},
     "output_type": "execute_result"
    }
   ],
   "source": [
    "df.dtypes"
   ]
  },
  {
   "cell_type": "code",
   "execution_count": 5,
   "metadata": {},
   "outputs": [
    {
     "name": "stdout",
     "output_type": "stream",
     "text": [
      "Removed 1519 films with no genres.\n"
     ]
    }
   ],
   "source": [
    "# Get number of rows prior to genre cleaning\n",
    "pre_genre_clean = len(df)\n",
    "\n",
    "# Remove films with no genres (NaN or empty)\n",
    "df = df[df['Genres'].notna() & (df['Genres'] != '')]\n",
    "\n",
    "# Get number of rows after genre cleaning\n",
    "post_genre_clean = len(df)\n",
    "\n",
    "# Check how many movies were removed\n",
    "removed_no_genre_count = pre_genre_clean - post_genre_clean\n",
    "print(f\"Removed {removed_no_genre_count} films with no genres.\")"
   ]
  },
  {
   "cell_type": "code",
   "execution_count": 6,
   "metadata": {},
   "outputs": [
    {
     "name": "stdout",
     "output_type": "stream",
     "text": [
      "Removed 136 thought as stand-up comedy.\n"
     ]
    }
   ],
   "source": [
    "# Ensure 'Genres' is split properly as a comma-separated string, or only has one genre\n",
    "df['Genres'] = df['Genres'].apply(\n",
    "    lambda x: [genre.strip() for genre in x.split(',')] if isinstance(x, str) else []\n",
    ")\n",
    "\n",
    "# Define the list of genres that represent stand-up comedy\n",
    "standup_genres = ['Comedy', 'Documentary']\n",
    "\n",
    "# Function to check if a movie is stand-up based on its genres\n",
    "def is_standup(genres):\n",
    "    # Sort both lists so that order doesn't affect the comparison\n",
    "    return sorted(genres) == sorted(standup_genres)\n",
    "\n",
    "# Get number of rows prior to stand-up removal\n",
    "pre_genre_clean = len(df)\n",
    "\n",
    "# Apply the filter to remove stand-up comedy movies\n",
    "df = df[~df['Genres'].apply(is_standup)]\n",
    "\n",
    "# Get number of rows after stand-up removal\n",
    "post_genre_clean = len(df)\n",
    "\n",
    "# Check how many movies were removed\n",
    "removed_standup_count = pre_genre_clean - post_genre_clean\n",
    "print(f\"Removed {removed_standup_count} thought as stand-up comedy.\")"
   ]
  },
  {
   "cell_type": "code",
   "execution_count": 7,
   "metadata": {},
   "outputs": [
    {
     "name": "stdout",
     "output_type": "stream",
     "text": [
      "Removed 11435 thought as stand-up comedy.\n"
     ]
    }
   ],
   "source": [
    "# Get number of rows prior to stand-up removal\n",
    "pre_nan_clan = len(df)\n",
    "\n",
    "# Remove movies with no Director or Producer\n",
    "df = df.dropna(subset=['Director', 'Producer'])\n",
    "\n",
    "# Get number of rows after stand-up removal\n",
    "post_nan_clean = len(df)\n",
    "\n",
    "# Check how many movies were removed\n",
    "removed_dir_or_pro = pre_nan_clan - post_nan_clean\n",
    "print(f\"Removed {removed_dir_or_pro} as they had no director or producer.\")"
   ]
  },
  {
   "cell_type": "code",
   "execution_count": 8,
   "metadata": {},
   "outputs": [
    {
     "name": "stdout",
     "output_type": "stream",
     "text": [
      "Director\n",
      "YAGOO               9.72\n",
      "Park Jun-soo        8.40\n",
      "David Mallet        8.09\n",
      "Stanley Kubrick     8.01\n",
      "Hayao Miyazaki      7.92\n",
      "Paul Dugdale        7.91\n",
      "Christopher Nolan   7.86\n",
      "Quentin Tarantino   7.84\n",
      "Makoto Shinkai      7.79\n",
      "Akira Kurosawa      7.73\n",
      "Name: Ratings, dtype: float64\n"
     ]
    }
   ],
   "source": [
    "# Step 1: Count the number of movies for each director\n",
    "director_counts = df['Director'].value_counts()\n",
    "\n",
    "# Step 2: Filter directors with at least 5 movies\n",
    "directors_with_5_plus_movies = director_counts[director_counts >= 5].index\n",
    "\n",
    "# Step 3: Calculate average ratings for these directors\n",
    "average_ratings = df[df['Director'].isin(directors_with_5_plus_movies)]\n",
    "top_directors = average_ratings.groupby('Director')['Ratings'].mean().sort_values(ascending=False)\n",
    "\n",
    "# Print top 10 directors by average rating with 5+ movie credits\n",
    "print(top_directors.head(10))"
   ]
  },
  {
   "cell_type": "code",
   "execution_count": null,
   "metadata": {},
   "outputs": [],
   "source": []
  }
 ],
 "metadata": {
  "kernelspec": {
   "display_name": "movie_db",
   "language": "python",
   "name": "python3"
  },
  "language_info": {
   "codemirror_mode": {
    "name": "ipython",
    "version": 3
   },
   "file_extension": ".py",
   "mimetype": "text/x-python",
   "name": "python",
   "nbconvert_exporter": "python",
   "pygments_lexer": "ipython3",
   "version": "3.11.5"
  }
 },
 "nbformat": 4,
 "nbformat_minor": 2
}
