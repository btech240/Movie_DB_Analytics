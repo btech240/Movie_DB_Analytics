{
 "cells": [
  {
   "cell_type": "code",
   "execution_count": 1,
   "metadata": {},
   "outputs": [],
   "source": [
    "import pandas as pd\n",
    "import ftfy"
   ]
  },
  {
   "cell_type": "code",
   "execution_count": 2,
   "metadata": {},
   "outputs": [],
   "source": [
    "# Load the CSV file with low_memory=False and without specifying dtypes initially\n",
    "df = pd.read_csv('raw_movie_data.csv', low_memory=False)\n",
    "\n",
    "# Convert relevant columns to numeric, coercing errors into NaN\n",
    "df['Year'] = pd.to_numeric(df['Year'], errors='coerce')\n",
    "df['Duration'] = pd.to_numeric(df['Duration'], errors='coerce')\n",
    "df['Budget'] = pd.to_numeric(df['Budget'], errors='coerce')\n",
    "df['Revenue'] = pd.to_numeric(df['Revenue'], errors='coerce')\n",
    "df['Ratings'] = pd.to_numeric(df['Ratings'], errors='coerce')\n",
    "df['Vote Count'] = pd.to_numeric(df['Vote Count'], errors='coerce')\n",
    "df['Popularity'] = pd.to_numeric(df['Popularity'], errors='coerce')\n",
    "df['Movie ID'] = pd.to_numeric(df['Movie ID'], errors='coerce')\n",
    "\n",
    "# Convert the specified columns to integers (removing decimal places)\n",
    "df['Year'] = df['Year'].astype('Int64')\n",
    "df['Duration'] = df['Duration'].astype('Int64')\n",
    "df['Budget'] = df['Budget'].astype('Int64')\n",
    "df['Revenue'] = df['Revenue'].astype('Int64')\n",
    "df['Vote Count'] = df['Vote Count'].astype('Int64')\n",
    "df['Movie ID'] = df['Movie ID'].astype('Int64')\n",
    "\n",
    "# Convert all object columns to string type (handling NaN as <NA> in string columns)\n",
    "df['Title'] = df['Title'].astype('string')\n",
    "df['Director'] = df['Director'].astype('string')\n",
    "df['Producer'] = df['Producer'].astype('string')\n",
    "df['Genres'] = df['Genres'].astype('string')\n",
    "df['Summary'] = df['Summary'].astype('string')\n",
    "df['Content Rating'] = df['Content Rating'].astype('string')\n",
    "df['Original Language'] = df['Original Language'].astype('string')\n",
    "df['Production Companies'] = df['Production Companies'].astype('string')\n",
    "df['Production Countries'] = df['Production Countries'].astype('string')\n",
    "df['Spoken Languages'] = df['Spoken Languages'].astype('string')\n",
    "df['Tagline'] = df['Tagline'].astype('string')\n",
    "\n",
    "# Drop the 'Adult' column from the DataFrame\n",
    "df = df.drop(columns=['Adult'])"
   ]
  },
  {
   "cell_type": "code",
   "execution_count": 3,
   "metadata": {},
   "outputs": [],
   "source": [
    "# Disable scientific notation for floats\n",
    "pd.options.display.float_format = '{:,.2f}'.format"
   ]
  },
  {
   "cell_type": "code",
   "execution_count": 4,
   "metadata": {},
   "outputs": [
    {
     "data": {
      "text/plain": [
       "Title                   string[python]\n",
       "Year                             Int64\n",
       "Director                string[python]\n",
       "Producer                string[python]\n",
       "Genres                  string[python]\n",
       "Summary                 string[python]\n",
       "Duration                         Int64\n",
       "Budget                           Int64\n",
       "Revenue                          Int64\n",
       "Ratings                        float64\n",
       "Vote Count                       Int64\n",
       "Popularity                     float64\n",
       "Content Rating          string[python]\n",
       "Original Language       string[python]\n",
       "Production Companies    string[python]\n",
       "Production Countries    string[python]\n",
       "Spoken Languages        string[python]\n",
       "Tagline                 string[python]\n",
       "Movie ID                         Int64\n",
       "dtype: object"
      ]
     },
     "execution_count": 4,
     "metadata": {},
     "output_type": "execute_result"
    }
   ],
   "source": [
    "df.dtypes"
   ]
  },
  {
   "cell_type": "code",
   "execution_count": 5,
   "metadata": {},
   "outputs": [],
   "source": [
    "# Remove movies that have no summary (NaN or empty strings)\n",
    "df = df.dropna(subset=['Summary'])"
   ]
  },
  {
   "cell_type": "code",
   "execution_count": 6,
   "metadata": {},
   "outputs": [
    {
     "name": "stdout",
     "output_type": "stream",
     "text": [
      "Removed 1511 films with no genres.\n"
     ]
    }
   ],
   "source": [
    "# Get number of rows prior to genre cleaning\n",
    "pre_genre_clean = len(df)\n",
    "\n",
    "# Remove films with no genres (NaN or empty)\n",
    "df = df[df['Genres'].notna() & (df['Genres'] != '')]\n",
    "\n",
    "# Get number of rows after genre cleaning\n",
    "post_genre_clean = len(df)\n",
    "\n",
    "# Check how many movies were removed\n",
    "removed_no_genre_count = pre_genre_clean - post_genre_clean\n",
    "print(f\"Removed {removed_no_genre_count} films with no genres.\")"
   ]
  },
  {
   "cell_type": "code",
   "execution_count": 7,
   "metadata": {},
   "outputs": [],
   "source": [
    "def is_ascii(s):\n",
    "    \"\"\"Check if the string is ASCII.\"\"\"\n",
    "    return all(ord(c) < 128 for c in s)\n",
    "\n",
    "# Function to filter out non-ASCII items in a comma-separated list\n",
    "def remove_non_ascii_languages(df, column_name):\n",
    "    def filter_ascii_list(items):\n",
    "        # Split the list and filter each item\n",
    "        return ', '.join([item for item in items.split(',') if is_ascii(item.strip())])\n",
    "\n",
    "    # Apply the function to each row in the specified column\n",
    "    df[column_name] = df[column_name].apply(lambda x: filter_ascii_list(str(x)) if isinstance(x, str) else x)\n",
    "    return df\n",
    "\n",
    "# Function to remove empty strings from comma-separated lists\n",
    "def remove_empty_strings(df, column_name):\n",
    "    df[column_name] = df[column_name].apply(lambda x: ', '.join(filter(lambda s: s.strip() != '', x.split(','))) if isinstance(x, str) else x)\n",
    "    return df\n",
    "\n",
    "# Apply to relevant columns\n",
    "df = remove_non_ascii_languages(df, 'Original Language')\n",
    "df = remove_non_ascii_languages(df, 'Spoken Languages')\n",
    "df = remove_non_ascii_languages(df, 'Production Companies')\n",
    "df = remove_non_ascii_languages(df, 'Production Countries')\n",
    "\n",
    "# Remove empty strings from the language lists\n",
    "df = remove_empty_strings(df, 'Original Language')\n",
    "df = remove_empty_strings(df, 'Spoken Languages')\n",
    "df = remove_empty_strings(df, 'Production Companies')\n",
    "df = remove_empty_strings(df, 'Production Countries')"
   ]
  },
  {
   "cell_type": "code",
   "execution_count": 8,
   "metadata": {},
   "outputs": [],
   "source": [
    "# Replace NaN values with an empty string for the relevant columns\n",
    "columns_to_process = ['Genres','Original Language', 'Spoken Languages', 'Production Companies', 'Production Countries']\n",
    "df[columns_to_process] = df[columns_to_process].fillna(\"\")\n",
    "\n",
    "# Split each of these columns by commas, creating lists from the strings\n",
    "for col in columns_to_process:\n",
    "    df[col] = df[col].apply(lambda x: [item.strip() for item in x.split(',')] if x else [])"
   ]
  },
  {
   "cell_type": "code",
   "execution_count": 9,
   "metadata": {},
   "outputs": [
    {
     "name": "stdout",
     "output_type": "stream",
     "text": [
      "Removed 136 thought as stand-up comedy.\n"
     ]
    }
   ],
   "source": [
    "# Define the list of genres that represent stand-up comedy\n",
    "standup_genres = ['Comedy', 'Documentary']\n",
    "\n",
    "# Function to check if a movie is stand-up based on its genres\n",
    "def is_standup(genres):\n",
    "    # Sort both lists so that order doesn't affect the comparison\n",
    "    return sorted(genres) == sorted(standup_genres)\n",
    "\n",
    "# Get number of rows prior to stand-up removal\n",
    "pre_genre_clean = len(df)\n",
    "\n",
    "# Apply the filter to remove stand-up comedy movies\n",
    "df = df[~df['Genres'].apply(is_standup)]\n",
    "\n",
    "# Get number of rows after stand-up removal\n",
    "post_genre_clean = len(df)\n",
    "\n",
    "# Check how many movies were removed\n",
    "removed_standup_count = pre_genre_clean - post_genre_clean\n",
    "print(f\"Removed {removed_standup_count} thought as stand-up comedy.\")"
   ]
  },
  {
   "cell_type": "code",
   "execution_count": 10,
   "metadata": {},
   "outputs": [],
   "source": [
    "# Replace NaN values in string columns with empty strings - some movies don't have production companies\n",
    "string_columns = df.select_dtypes(include=['object', 'string']).columns\n",
    "df[string_columns] = df[string_columns].fillna(\"\")"
   ]
  },
  {
   "cell_type": "code",
   "execution_count": 11,
   "metadata": {},
   "outputs": [
    {
     "name": "stdout",
     "output_type": "stream",
     "text": [
      "Removed 11407 as they had no director or producer.\n"
     ]
    }
   ],
   "source": [
    "# Get number of rows prior to director or producer removal\n",
    "pre_nan_clean = len(df)\n",
    "\n",
    "# Remove movies with no Director or Producer (including empty strings)\n",
    "df = df[(df['Director'].notna()) & (df['Director'] != '') & \n",
    "        (df['Producer'].notna()) & (df['Producer'] != '')]\n",
    "\n",
    "# Get number of rows after director or producer removal\n",
    "post_nan_clean = len(df)\n",
    "\n",
    "# Check how many movies were removed\n",
    "removed_dir_or_pro = pre_nan_clean - post_nan_clean\n",
    "print(f\"Removed {removed_dir_or_pro} as they had no director or producer.\")"
   ]
  },
  {
   "cell_type": "code",
   "execution_count": 12,
   "metadata": {},
   "outputs": [],
   "source": [
    "# Doesn't appear all string fields were fixed during data aquisition, apply FTFY to all string columns in the DataFrame - some languages won't be fixed\n",
    "string_columns = df.select_dtypes(include=['string']).columns\n",
    "\n",
    "# Fix the text in each of the string columns\n",
    "for col in string_columns:\n",
    "    df[col] = df[col].apply(ftfy.fix_text)"
   ]
  },
  {
   "cell_type": "code",
   "execution_count": 13,
   "metadata": {},
   "outputs": [
    {
     "name": "stdout",
     "output_type": "stream",
     "text": [
      "1299\n"
     ]
    }
   ],
   "source": [
    "# Get row count prior to removing duplicate movies\n",
    "pre_dupe_remove = len(df)\n",
    "\n",
    "# Remove duplicate movies based on 'Title' and 'Year' - have found many duplicate movies\n",
    "df = df.drop_duplicates(subset=['Title', 'Year'], keep='first')  # keep='first' retains the first occurrence\n",
    "\n",
    "# Get row count after removing duplicate movies\n",
    "post_dupe_remove = len(df)\n",
    "\n",
    "# Calculate duplicates removed\n",
    "dupes_removed = pre_dupe_remove - post_dupe_remove\n",
    "\n",
    "print(dupes_removed)"
   ]
  },
  {
   "cell_type": "code",
   "execution_count": 14,
   "metadata": {},
   "outputs": [],
   "source": [
    "# Specify the path for the new cleaned CSV file\n",
    "cleaned_file_path = 'cleaned_movie_data.csv'\n",
    "\n",
    "# Save the cleaned DataFrame to a new CSV file\n",
    "df.to_csv(cleaned_file_path, index=False)"
   ]
  }
 ],
 "metadata": {
  "kernelspec": {
   "display_name": "movie_db",
   "language": "python",
   "name": "python3"
  },
  "language_info": {
   "codemirror_mode": {
    "name": "ipython",
    "version": 3
   },
   "file_extension": ".py",
   "mimetype": "text/x-python",
   "name": "python",
   "nbconvert_exporter": "python",
   "pygments_lexer": "ipython3",
   "version": "3.11.5"
  }
 },
 "nbformat": 4,
 "nbformat_minor": 2
}
